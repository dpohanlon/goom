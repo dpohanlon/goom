{
 "cells": [
  {
   "cell_type": "code",
   "execution_count": null,
   "metadata": {},
   "outputs": [],
   "source": [
    "# Define the semitone values for each note within an octave.\n",
    "note_to_semitone = {\n",
    "    'C': 0, 'C#': 1, 'Db': 1,\n",
    "    'D': 2, 'D#': 3, 'Eb': 3,\n",
    "    'E': 4, 'F': 5, 'F#': 6,\n",
    "    'Gb': 6, 'G': 7, 'G#': 8,\n",
    "    'Ab': 8, 'A': 9, 'A#': 10,\n",
    "    'Bb': 10, 'B': 11\n",
    "}\n",
    "\n",
    "def note_to_volt(note):\n",
    "    \"\"\"\n",
    "    Convert a musical note to volts based on the V/Oct standard.\n",
    "    \n",
    "    Args:\n",
    "    - note (str): The musical note in the format \"A1\", \"C#3\", \"Bb4\", etc.\n",
    "    \n",
    "    Returns:\n",
    "    - float: Corresponding voltage.\n",
    "    \"\"\"\n",
    "    \n",
    "    # Parse the note to extract the pitch and octave.\n",
    "    pitch = note[:-1]  # e.g., \"C#\"\n",
    "    octave = int(note[-1])  # e.g., \"3\"\n",
    "    \n",
    "    # Calculate the total number of semitones from the reference note A1.\n",
    "    semitones_from_A1 = (octave) * 12 + note_to_semitone[pitch] - note_to_semitone['A']\n",
    "    \n",
    "    # Convert the total semitones to volts (1V per 12 semitones).\n",
    "    volts = 1 + semitones_from_A1 / 12.0\n",
    "    \n",
    "    return volts\n",
    "\n",
    "def note_to_duty(note):\n",
    "\n",
    "    v = note_to_volt(note)\n",
    "    return (v / 10.) * 100.\n",
    "\n",
    "notes = note_to_semitone.keys()"
   ]
  },
  {
   "cell_type": "code",
   "execution_count": null,
   "metadata": {},
   "outputs": [],
   "source": [
    "for i in range(0, 9):\n",
    "    for note in notes:\n",
    "        d = note_to_duty(f'{note}{i}')\n",
    "        print(d, notes_to_semitone[note] + (i-1) * 12 + 12, f'{note}{i}')"
   ]
  },
  {
   "cell_type": "code",
   "execution_count": null,
   "metadata": {},
   "outputs": [],
   "source": [
    "# Without duplicates for flat and sharp\n",
    "\n",
    "semitone_to_note = {v : k for k, v in note_to_semitone.items()}\n",
    "note_to_semitone_s = {v: k for k, v in semitone_to_note.items()}\n",
    "notes_s = note_to_semitone_s.keys()\n",
    "\n",
    "for i in range(0, 9):\n",
    "    for note in notes_s:\n",
    "        d = note_to_duty(f'{note}{i}')\n",
    "        print(d, ', //', note_to_semitone_s[note] + (i) * 12 + 12, f'{note}{i}')\n"
   ]
  },
  {
   "cell_type": "code",
   "execution_count": null,
   "metadata": {},
   "outputs": [],
   "source": []
  }
 ],
 "metadata": {
  "kernelspec": {
   "display_name": "base",
   "language": "python",
   "name": "python3"
  },
  "language_info": {
   "codemirror_mode": {
    "name": "ipython",
    "version": 3
   },
   "file_extension": ".py",
   "mimetype": "text/x-python",
   "name": "python",
   "nbconvert_exporter": "python",
   "pygments_lexer": "ipython3",
   "version": "3.9.13"
  },
  "orig_nbformat": 4
 },
 "nbformat": 4,
 "nbformat_minor": 2
}
